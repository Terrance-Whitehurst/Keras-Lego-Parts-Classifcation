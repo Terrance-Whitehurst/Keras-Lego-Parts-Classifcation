{
 "cells": [
  {
   "cell_type": "code",
   "execution_count": 1,
   "metadata": {
    "_cell_guid": "79c7e3d0-c299-4dcb-8224-4455121ee9b0",
    "_uuid": "d629ff2d2480ee46fbb7e2d37f6b5fab8052498a"
   },
   "outputs": [
    {
     "name": "stderr",
     "output_type": "stream",
     "text": [
      "Using TensorFlow backend.\n"
     ]
    }
   ],
   "source": [
    "#-------Import Dependencies-------#\n",
    "%matplotlib inline\n",
    "import pandas as pd\n",
    "import os,shutil,math,scipy,cv2\n",
    "import numpy as np\n",
    "import matplotlib.pyplot as plt\n",
    "import random as rn\n",
    "\n",
    "\n",
    "from sklearn.utils import shuffle\n",
    "from sklearn.metrics import classification_report\n",
    "from sklearn.model_selection import train_test_split\n",
    "from sklearn.preprocessing import LabelEncoder\n",
    "from sklearn.metrics import confusion_matrix,roc_curve,auc\n",
    "\n",
    "from PIL import Image\n",
    "from PIL import Image as pil_image\n",
    "from PIL import ImageDraw\n",
    "\n",
    "from time import time\n",
    "from glob import glob\n",
    "from tqdm import tqdm\n",
    "from skimage.io import imread\n",
    "from IPython.display import SVG\n",
    "\n",
    "from scipy import misc,ndimage\n",
    "from scipy.ndimage.interpolation import zoom\n",
    "from scipy.ndimage import imread\n",
    "\n",
    "\n",
    "from keras import backend as K\n",
    "from keras.utils.np_utils import to_categorical\n",
    "from keras import layers\n",
    "from keras.preprocessing.image import save_img\n",
    "from keras.utils.vis_utils import model_to_dot\n",
    "from keras.applications.vgg16 import VGG16,preprocess_input\n",
    "from keras.applications.xception import Xception\n",
    "from keras.applications.nasnet import NASNetMobile\n",
    "from keras.models import Sequential,Input,Model\n",
    "from keras.layers import Dense,Flatten,Dropout,Concatenate,GlobalAveragePooling2D,Lambda,ZeroPadding2D\n",
    "from keras.layers import SeparableConv2D,BatchNormalization,MaxPooling2D,Conv2D\n",
    "from keras.preprocessing.image import ImageDataGenerator\n",
    "from keras.optimizers import Adam,SGD\n",
    "from keras.utils.vis_utils import plot_model\n",
    "from keras.callbacks import ModelCheckpoint,EarlyStopping,TensorBoard,CSVLogger,ReduceLROnPlateau,LearningRateScheduler"
   ]
  },
  {
   "cell_type": "markdown",
   "metadata": {
    "_uuid": "b5fee02153eca4dd699a4e85b1fd510fbffa0b0b"
   },
   "source": [
    "def model_evaluation(history, model, x_test,y_test, field_name):\n",
    "    f, ax = plt.subplots(2,1, figsize=(5,5))\n",
    "    ax[0].plot(history.history['loss'], label=\"Loss\")\n",
    "    ax[0].plot(history.history['val_loss'], label=\"Validation loss\")\n",
    "    ax[0].set_title('%s: loss' % field_name)\n",
    "    ax[0].set_xlabel('Epoch')\n",
    "    ax[0].set_ylabel('Loss')\n",
    "    ax[0].legend()\n",
    "    \n",
    "    ax[1].plot(history.history['acc'], label=\"Accuracy\")\n",
    "    ax[1].plot(history.history['val_acc'], label=\"Validation accuracy\")\n",
    "    ax[1].set_title('%s: accuracy' % field_name)\n",
    "    ax[1].set_xlabel('Epoch')\n",
    "    ax[1].set_ylabel('Accuracy')\n",
    "    ax[1].legend()\n",
    "    plt.tight_layout()\n",
    "    plt.show()\n",
    "\n",
    "    test_pred = model.predict(x_test)\n",
    "    \n",
    "    acc_by_subspecies = np.logical_and((test_pred > 0.5), y_test).sum()/y_test.sum()\n",
    "    acc_by_subspecies.plot(kind='bar', title='Accuracy by %s' % field_name)\n",
    "    plt.ylabel('Accuracy')\n",
    "    plt.show()\n",
    "\n",
    "    print(\"Classification report\")\n",
    "    test_pred = np.argmax(test_pred, axis=1)\n",
    "    test_truth = np.argmax(y_test.values, axis=1)\n",
    "    print(metrics.classification_report(test_truth, test_pred, target_names=y_test.columns))\n",
    "\n",
    "    test_result = model.evaluate(x_test, y_test.values, verbose=0)\n",
    "    print('Loss function: %s, accuracy:' % test_result[0], test_result[1])"
   ]
  },
  {
   "cell_type": "code",
   "execution_count": 2,
   "metadata": {
    "_uuid": "2da07bf6fc19e7e7aa5fdb51d77f10682569b8df"
   },
   "outputs": [],
   "source": [
    "def show_final_history(history):\n",
    "    fig, ax = plt.subplots(1, 2, figsize=(15,5))\n",
    "    ax[0].set_title('loss')\n",
    "    ax[0].plot(history.epoch, history.history[\"loss\"], label=\"Train loss\")\n",
    "    ax[0].plot(history.epoch, history.history[\"val_loss\"], label=\"Validation loss\")\n",
    "    ax[1].set_title('acc')\n",
    "    ax[1].plot(history.epoch, history.history[\"acc\"], label=\"Train acc\")\n",
    "    ax[1].plot(history.epoch, history.history[\"val_acc\"], label=\"Validation acc\")\n",
    "    ax[0].legend()\n",
    "    ax[1].legend()"
   ]
  },
  {
   "cell_type": "code",
   "execution_count": 3,
   "metadata": {
    "_uuid": "f25da04a0b6c5da7ff73edd78daff89e8352c80e"
   },
   "outputs": [],
   "source": [
    "def visualize_layer_kernels(img, conv_layer, title):\n",
    "    weights1 = conv_layer.get_weights()\n",
    "    kernels = weights1[0]\n",
    "    kernels_num = kernels.shape[3]\n",
    "    f, ax = plt.subplots(kernels_num, 3, figsize=(7, kernels_num*2))\n",
    "\n",
    "    for i in range(0, kernels_num):\n",
    "        kernel=kernels[:,:,:3,i]\n",
    "        ax[i][0].imshow((kernel * 255).astype(np.uint8), vmin=0, vmax=255)\n",
    "        ax[i][0].set_title(\"Kernel %d\" % i, fontsize = 9)\n",
    "        ax[i][1].imshow((img * 255).astype(np.uint8), vmin=0, vmax=255)\n",
    "        ax[i][1].set_title(\"Before\", fontsize=8)\n",
    "        img_filt = scipy.ndimage.filters.convolve(img, kernel)\n",
    "        ax[i][2].imshow((img_filt * 255).astype(np.uint8), vmin=0, vmax=255)\n",
    "        ax[i][2].set_title(\"After\", fontsize=8)\n",
    "        \n",
    "    plt.suptitle(title)\n",
    "    plt.tight_layout()\n",
    "    plt.subplots_adjust(top=0.93)\n",
    "    plt.show()   "
   ]
  },
  {
   "cell_type": "code",
   "execution_count": 4,
   "metadata": {
    "_uuid": "d0388c6f62c525d7452af83429dde78a4f040269"
   },
   "outputs": [
    {
     "name": "stdout",
     "output_type": "stream",
     "text": [
      "Found 6379 images belonging to 16 classes.\n",
      "Found 6379 images belonging to 16 classes.\n"
     ]
    }
   ],
   "source": [
    "train_dir = '../input/lego brick images/LEGO brick images/train'\n",
    "val_dir ='../input/lego brick images/LEGO brick images/valid'\n",
    "\n",
    "\n",
    "augs_gen = ImageDataGenerator(\n",
    "    rescale=1./255,\n",
    "    shear_range=0.2,  \n",
    "    zoom_range=0.2,        \n",
    "    horizontal_flip=True,validation_split=0.2)  \n",
    "\n",
    "train_gen = augs_gen.flow_from_directory(\n",
    "    train_dir,\n",
    "    target_size = (150,150),\n",
    "    batch_size=16,\n",
    "    class_mode = 'categorical',\n",
    "    shuffle=True\n",
    ")\n",
    "\n",
    "test_gen = augs_gen.flow_from_directory(\n",
    "    val_dir,\n",
    "    target_size=(150,150),\n",
    "    batch_size=16,\n",
    "    class_mode='categorical',\n",
    "    shuffle=False\n",
    ")"
   ]
  },
  {
   "cell_type": "code",
   "execution_count": 5,
   "metadata": {
    "_uuid": "058a7c1d7ee2b0925a7366aca2274a32e0226267"
   },
   "outputs": [
    {
     "name": "stdout",
     "output_type": "stream",
     "text": [
      "_________________________________________________________________\n",
      "Layer (type)                 Output Shape              Param #   \n",
      "=================================================================\n",
      "lambda_1 (Lambda)            (None, 150, 150, 3)       0         \n",
      "_________________________________________________________________\n",
      "conv2d_1 (Conv2D)            (None, 148, 148, 32)      896       \n",
      "_________________________________________________________________\n",
      "separable_conv2d_1 (Separabl (None, 146, 146, 32)      1344      \n",
      "_________________________________________________________________\n",
      "batch_normalization_1 (Batch (None, 146, 146, 32)      128       \n",
      "_________________________________________________________________\n",
      "max_pooling2d_1 (MaxPooling2 (None, 73, 73, 32)        0         \n",
      "_________________________________________________________________\n",
      "conv2d_2 (Conv2D)            (None, 71, 71, 64)        18496     \n",
      "_________________________________________________________________\n",
      "separable_conv2d_2 (Separabl (None, 69, 69, 64)        4736      \n",
      "_________________________________________________________________\n",
      "batch_normalization_2 (Batch (None, 69, 69, 64)        256       \n",
      "_________________________________________________________________\n",
      "max_pooling2d_2 (MaxPooling2 (None, 34, 34, 64)        0         \n",
      "_________________________________________________________________\n",
      "conv2d_3 (Conv2D)            (None, 32, 32, 128)       73856     \n",
      "_________________________________________________________________\n",
      "separable_conv2d_3 (Separabl (None, 30, 30, 128)       17664     \n",
      "_________________________________________________________________\n",
      "batch_normalization_3 (Batch (None, 30, 30, 128)       512       \n",
      "_________________________________________________________________\n",
      "max_pooling2d_3 (MaxPooling2 (None, 15, 15, 128)       0         \n",
      "_________________________________________________________________\n",
      "conv2d_4 (Conv2D)            (None, 13, 13, 256)       295168    \n",
      "_________________________________________________________________\n",
      "separable_conv2d_4 (Separabl (None, 11, 11, 256)       68096     \n",
      "_________________________________________________________________\n",
      "batch_normalization_4 (Batch (None, 11, 11, 256)       1024      \n",
      "_________________________________________________________________\n",
      "max_pooling2d_4 (MaxPooling2 (None, 5, 5, 256)         0         \n",
      "_________________________________________________________________\n",
      "flatten_1 (Flatten)          (None, 6400)              0         \n",
      "_________________________________________________________________\n",
      "dense_1 (Dense)              (None, 1024)              6554624   \n",
      "_________________________________________________________________\n",
      "dropout_1 (Dropout)          (None, 1024)              0         \n",
      "_________________________________________________________________\n",
      "dense_2 (Dense)              (None, 16)                16400     \n",
      "=================================================================\n",
      "Total params: 7,053,200\n",
      "Trainable params: 7,052,240\n",
      "Non-trainable params: 960\n",
      "_________________________________________________________________\n"
     ]
    }
   ],
   "source": [
    "def ConvBlock(model, layers, filters):\n",
    "    for i in range(layers):\n",
    "        model.add(Conv2D(filters,(3,3),activation='selu'))\n",
    "        model.add(SeparableConv2D(filters, (3, 3), activation='selu'))\n",
    "        model.add(BatchNormalization())\n",
    "        model.add(MaxPooling2D((2, 2), strides=(2, 2)))\n",
    "    \n",
    "def FCN():\n",
    "    model = Sequential()\n",
    "    model.add(Lambda(lambda x: x, input_shape=(150, 150, 3)))\n",
    "    ConvBlock(model, 1, 32)\n",
    "    ConvBlock(model, 1, 64)\n",
    "    ConvBlock(model, 1, 128)\n",
    "    ConvBlock(model, 1, 256)\n",
    "    model.add(Flatten())\n",
    "    model.add(Dense(1024,activation='selu'))\n",
    "    model.add(Dropout(0.5))\n",
    "    model.add(Dense(16,activation='softmax'))\n",
    "    return model\n",
    "\n",
    "model = FCN()\n",
    "model.summary()\n",
    "\n",
    "SVG(model_to_dot(model).create(prog='dot', format='svg'))\n",
    "plot_model(model, to_file='model_plot.png', show_shapes=True, show_layer_names=True, expand_nested=True)"
   ]
  },
  {
   "cell_type": "code",
   "execution_count": 6,
   "metadata": {
    "_uuid": "b58988f49a9c22c2eb04c41f065deb446d949c37"
   },
   "outputs": [],
   "source": [
    "#-------Callbacks-------------#\n",
    "best_model_weights = './base.model'\n",
    "checkpoint = ModelCheckpoint(\n",
    "    best_model_weights,\n",
    "    monitor='val_loss',\n",
    "    verbose=1,\n",
    "    save_best_only=True,\n",
    "    mode='min',\n",
    "    save_weights_only=False,\n",
    "    period=1\n",
    ")\n",
    "earlystop = EarlyStopping(\n",
    "    monitor='val_loss',\n",
    "    min_delta=0.001,\n",
    "    patience=10,\n",
    "    verbose=1,\n",
    "    mode='auto'\n",
    ")\n",
    "tensorboard = TensorBoard(\n",
    "    log_dir = './logs',\n",
    "    histogram_freq=0,\n",
    "    batch_size=16,\n",
    "    write_graph=True,\n",
    "    write_grads=True,\n",
    "    write_images=False,\n",
    ")\n",
    "\n",
    "csvlogger = CSVLogger(\n",
    "    filename= \"training_csv.log\",\n",
    "    separator = \",\",\n",
    "    append = False\n",
    ")\n",
    "\n",
    "#lrsched = LearningRateScheduler(step_decay,verbose=1)\n",
    "\n",
    "reduce = ReduceLROnPlateau(\n",
    "    monitor='val_loss',\n",
    "    factor=0.5,\n",
    "    patience=40,\n",
    "    verbose=1, \n",
    "    mode='auto',\n",
    "    cooldown=1 \n",
    ")\n",
    "\n",
    "callbacks = [checkpoint,tensorboard,csvlogger,reduce]"
   ]
  },
  {
   "cell_type": "code",
   "execution_count": 7,
   "metadata": {
    "_uuid": "ce03f4f7fa13704ef31706f9ef4b3a731c5bff3f"
   },
   "outputs": [
    {
     "name": "stdout",
     "output_type": "stream",
     "text": [
      "Epoch 1/20\n",
      "100/100 [==============================] - 32s 324ms/step - loss: 0.3055 - acc: 0.9187 - val_loss: 0.1582 - val_acc: 0.9391\n",
      "\n",
      "Epoch 00001: val_loss improved from inf to 0.15820, saving model to ./base.model\n",
      "Epoch 2/20\n",
      "100/100 [==============================] - 29s 291ms/step - loss: 0.2333 - acc: 0.9249 - val_loss: 0.1795 - val_acc: 0.9416\n",
      "\n",
      "Epoch 00002: val_loss did not improve from 0.15820\n",
      "Epoch 3/20\n",
      "100/100 [==============================] - 29s 294ms/step - loss: 0.2053 - acc: 0.9326 - val_loss: 0.1326 - val_acc: 0.9460\n",
      "\n",
      "Epoch 00003: val_loss improved from 0.15820 to 0.13263, saving model to ./base.model\n",
      "Epoch 4/20\n",
      "100/100 [==============================] - 29s 290ms/step - loss: 0.1812 - acc: 0.9366 - val_loss: 0.1251 - val_acc: 0.9525\n",
      "\n",
      "Epoch 00004: val_loss improved from 0.13263 to 0.12509, saving model to ./base.model\n",
      "Epoch 5/20\n",
      "100/100 [==============================] - 26s 264ms/step - loss: 0.1697 - acc: 0.9393 - val_loss: 0.0982 - val_acc: 0.9604\n",
      "\n",
      "Epoch 00005: val_loss improved from 0.12509 to 0.09821, saving model to ./base.model\n",
      "Epoch 6/20\n",
      "100/100 [==============================] - 26s 260ms/step - loss: 0.1594 - acc: 0.9418 - val_loss: 0.1359 - val_acc: 0.9504\n",
      "\n",
      "Epoch 00006: val_loss did not improve from 0.09821\n",
      "Epoch 7/20\n",
      "100/100 [==============================] - 26s 258ms/step - loss: 0.1569 - acc: 0.9430 - val_loss: 0.0815 - val_acc: 0.9684\n",
      "\n",
      "Epoch 00007: val_loss improved from 0.09821 to 0.08149, saving model to ./base.model\n",
      "Epoch 8/20\n",
      "100/100 [==============================] - 26s 263ms/step - loss: 0.1548 - acc: 0.9449 - val_loss: 0.1744 - val_acc: 0.9363\n",
      "\n",
      "Epoch 00008: val_loss did not improve from 0.08149\n",
      "Epoch 9/20\n",
      "100/100 [==============================] - 26s 261ms/step - loss: 0.1547 - acc: 0.9451 - val_loss: 0.0952 - val_acc: 0.9611\n",
      "\n",
      "Epoch 00009: val_loss did not improve from 0.08149\n",
      "Epoch 10/20\n",
      "100/100 [==============================] - 26s 257ms/step - loss: 0.1373 - acc: 0.9495 - val_loss: 0.1559 - val_acc: 0.9392\n",
      "\n",
      "Epoch 00010: val_loss did not improve from 0.08149\n",
      "Epoch 11/20\n",
      "100/100 [==============================] - 26s 258ms/step - loss: 0.1386 - acc: 0.9498 - val_loss: 0.0866 - val_acc: 0.9653\n",
      "\n",
      "Epoch 00011: val_loss did not improve from 0.08149\n",
      "Epoch 12/20\n",
      "100/100 [==============================] - 26s 261ms/step - loss: 0.1396 - acc: 0.9487 - val_loss: 0.0851 - val_acc: 0.9671\n",
      "\n",
      "Epoch 00012: val_loss did not improve from 0.08149\n",
      "Epoch 13/20\n",
      "100/100 [==============================] - 26s 261ms/step - loss: 0.1252 - acc: 0.9531 - val_loss: 0.1312 - val_acc: 0.9529\n",
      "\n",
      "Epoch 00013: val_loss did not improve from 0.08149\n",
      "Epoch 14/20\n",
      "100/100 [==============================] - 26s 259ms/step - loss: 0.1215 - acc: 0.9562 - val_loss: 0.1068 - val_acc: 0.9600\n",
      "\n",
      "Epoch 00014: val_loss did not improve from 0.08149\n",
      "Epoch 15/20\n",
      "100/100 [==============================] - 26s 259ms/step - loss: 0.1251 - acc: 0.9530 - val_loss: 0.0773 - val_acc: 0.9695\n",
      "\n",
      "Epoch 00015: val_loss improved from 0.08149 to 0.07731, saving model to ./base.model\n",
      "Epoch 16/20\n",
      "100/100 [==============================] - 26s 265ms/step - loss: 0.1212 - acc: 0.9549 - val_loss: 0.1228 - val_acc: 0.9535\n",
      "\n",
      "Epoch 00016: val_loss did not improve from 0.07731\n",
      "Epoch 17/20\n",
      "100/100 [==============================] - 26s 261ms/step - loss: 0.1170 - acc: 0.9562 - val_loss: 0.0828 - val_acc: 0.9641\n",
      "\n",
      "Epoch 00017: val_loss did not improve from 0.07731\n",
      "Epoch 18/20\n",
      "100/100 [==============================] - 26s 258ms/step - loss: 0.1120 - acc: 0.9584 - val_loss: 0.1146 - val_acc: 0.9560\n",
      "\n",
      "Epoch 00018: val_loss did not improve from 0.07731\n",
      "Epoch 19/20\n",
      "100/100 [==============================] - 26s 258ms/step - loss: 0.1108 - acc: 0.9580 - val_loss: 0.0795 - val_acc: 0.9676\n",
      "\n",
      "Epoch 00019: val_loss did not improve from 0.07731\n",
      "Epoch 20/20\n",
      "100/100 [==============================] - 26s 262ms/step - loss: 0.1152 - acc: 0.9571 - val_loss: 0.1136 - val_acc: 0.9505\n",
      "\n",
      "Epoch 00020: val_loss did not improve from 0.07731\n"
     ]
    }
   ],
   "source": [
    "opt = SGD(lr=1e-4,momentum=0.99)\n",
    "opt1 = Adam(lr=2e-4)\n",
    "\n",
    "model.compile(\n",
    "    loss='binary_crossentropy',\n",
    "    optimizer=opt,\n",
    "    metrics=['accuracy']\n",
    ")\n",
    "    \n",
    "history = model.fit_generator(\n",
    "    train_gen, \n",
    "    steps_per_epoch  = 100, \n",
    "    validation_data  = test_gen,\n",
    "    validation_steps = 100,\n",
    "    epochs = 20, \n",
    "    verbose = 1,\n",
    "    callbacks=callbacks\n",
    ")"
   ]
  },
  {
   "cell_type": "code",
   "execution_count": 8,
   "metadata": {
    "_uuid": "48a58d36b40fd46a94f0f8da75200eaf2fd851ee"
   },
   "outputs": [
    {
     "name": "stdout",
     "output_type": "stream",
     "text": [
      "Model Test Loss: 0.09962183180034034\n",
      "Model Test Accuracy: 0.9622589747609344\n",
      "Weights Saved\n"
     ]
    },
    {
     "data": {
      "image/png": "[encoded data removed]",
      "text/plain": [
       "<Figure size 1080x360 with 2 Axes>"
      ]
     },
     "metadata": {},
     "output_type": "display_data"
    }
   ],
   "source": [
    "show_final_history(history)\n",
    "model.load_weights(best_model_weights)\n",
    "model_score = model.evaluate_generator(test_gen)\n",
    "print(\"Model Test Loss:\",model_score[0])\n",
    "print(\"Model Test Accuracy:\",model_score[1])\n",
    "\n",
    "model_json = model.to_json()\n",
    "with open(\"model.json\",\"w\") as json_file:\n",
    "    json_file.write(model_json)\n",
    "    \n",
    "model.save(\"model.h5\")\n",
    "print(\"Weights Saved\")"
   ]
  },
  {
   "cell_type": "code",
   "execution_count": 9,
   "metadata": {
    "_uuid": "d5375a8fc1cac2813ac40094844cb71c6caeed58"
   },
   "outputs": [
    {
     "name": "stdout",
     "output_type": "stream",
     "text": [
      "--2019-02-19 17:07:38--  https://bin.equinox.io/c/4VmDzA7iaHb/ngrok-stable-linux-amd64.zip\r\n",
      "Resolving bin.equinox.io (bin.equinox.io)... 52.73.9.93, 52.4.75.11, 52.73.94.166, ...\r\n",
      "Connecting to bin.equinox.io (bin.equinox.io)|52.73.9.93|:443... connected.\r\n",
      "HTTP request sent, awaiting response... 200 OK\r\n",
      "Length: 5363700 (5.1M) [application/octet-stream]\r\n",
      "Saving to: ‘ngrok-stable-linux-amd64.zip’\r\n",
      "\r\n",
      "ngrok-stable-linux- 100%[===================>]   5.11M  9.55MB/s    in 0.5s    \r\n",
      "\r\n",
      "2019-02-19 17:07:39 (9.55 MB/s) - ‘ngrok-stable-linux-amd64.zip’ saved [5363700/5363700]\r\n",
      "\r\n",
      "Archive:  ngrok-stable-linux-amd64.zip\r\n",
      "  inflating: ngrok                   \r\n",
      "https://502c97ed.ngrok.io\r\n"
     ]
    }
   ],
   "source": [
    "!wget https://bin.equinox.io/c/4VmDzA7iaHb/ngrok-stable-linux-amd64.zip\n",
    "!unzip ngrok-stable-linux-amd64.zip\n",
    "LOG_DIR = './logs' # Here you have to put your log directory\n",
    "get_ipython().system_raw(\n",
    "    'tensorboard --logdir {} --host 0.0.0.0 --port 8080 &'\n",
    "    .format(LOG_DIR)\n",
    ")\n",
    "get_ipython().system_raw('./ngrok http 8080 &')\n",
    "! curl -s http://localhost:4040/api/tunnels | python3 -c \\\n",
    "    \"import sys, json; print(json.load(sys.stdin)['tunnels'][0]['public_url'])\"\n"
   ]
  },
  {
   "cell_type": "code",
   "execution_count": 10,
   "metadata": {
    "_uuid": "171533459a57ed4dedfe6d0a164ff050c719df6e"
   },
   "outputs": [],
   "source": []
  }
 ],
 "metadata": {
  "kernelspec": {
   "display_name": "Python 3",
   "language": "python",
   "name": "python3"
  },
  "language_info": {
   "codemirror_mode": {
    "name": "ipython",
    "version": 3
   },
   "file_extension": ".py",
   "mimetype": "text/x-python",
   "name": "python",
   "nbconvert_exporter": "python",
   "pygments_lexer": "ipython3",
   "version": "3.6.6"
  }
 },
 "nbformat": 4,
 "nbformat_minor": 1
}
